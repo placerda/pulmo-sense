{
 "cells": [
  {
   "cell_type": "markdown",
   "metadata": {},
   "source": [
    "### Train VGG Multiclass Model\n",
    "\n",
    "Reference: https://learn.microsoft.com/en-us/azure/machine-learning/how-to-train-pytorch?view=azureml-api-2"
   ]
  },
  {
   "cell_type": "code",
   "execution_count": 1,
   "metadata": {},
   "outputs": [
    {
     "data": {
      "text/plain": [
       "True"
      ]
     },
     "execution_count": 1,
     "metadata": {},
     "output_type": "execute_result"
    }
   ],
   "source": [
    "# Import necessary libraries\n",
    "from dotenv import load_dotenv\n",
    "from datetime import datetime\n",
    "import os\n",
    "\n",
    "# Load the .env file\n",
    "load_dotenv()\n"
   ]
  },
  {
   "cell_type": "code",
   "execution_count": 2,
   "metadata": {},
   "outputs": [
    {
     "name": "stdout",
     "output_type": "stream",
     "text": [
      "You already have a cluster named gpucluteruk, we'll reuse it as is.\n",
      "AMLCompute with name gpucluteruk is created, the compute size is Standard_ND96amsr_A100_v4\n"
     ]
    }
   ],
   "source": [
    "# Azure ML specific imports\n",
    "from azure.ai.ml import MLClient\n",
    "from azure.identity import DefaultAzureCredential\n",
    "from azure.ai.ml.entities import AmlCompute\n",
    "from azure.ai.ml import command\n",
    "\n",
    "# Configure the Azure workspace and authentication\n",
    "subscription_id = os.getenv(\"AZURE_SUBSCRIPTION_ID\")\n",
    "resource_group_name = os.getenv(\"AZURE_RESOURCE_GROUP\")\n",
    "workspace_name = os.getenv(\"AZURE_WORKSPACE_NAME\")\n",
    "\n",
    "credential = DefaultAzureCredential()\n",
    "ml_client = MLClient(\n",
    "    credential=credential,\n",
    "    subscription_id=subscription_id,\n",
    "    resource_group_name=resource_group_name,\n",
    "    workspace_name=workspace_name,\n",
    ")\n",
    "\n",
    "# Create or get the GPU cluster\n",
    "gpu_compute_target = \"gpucluteruk\"\n",
    "try:\n",
    "    gpu_cluster = ml_client.compute.get(gpu_compute_target)\n",
    "    print(f\"You already have a cluster named {gpu_compute_target}, we'll reuse it as is.\")\n",
    "except Exception:\n",
    "    print(\"Creating a new GPU compute target...\")\n",
    "    gpu_cluster = AmlCompute(\n",
    "        name=gpu_compute_target,\n",
    "        type=\"amlcompute\",\n",
    "        size=\"Standard_ND96amsr_A100_v4\",\n",
    "        min_instances=1,\n",
    "        max_instances=4,\n",
    "        idle_time_before_scale_down=180,\n",
    "        tier=\"Dedicated\",\n",
    "    )\n",
    "    gpu_cluster = ml_client.begin_create_or_update(gpu_cluster).result()\n",
    "print(f\"AMLCompute with name {gpu_cluster.name} is created, the compute size is {gpu_cluster.size}\")\n"
   ]
  },
  {
   "cell_type": "code",
   "execution_count": 3,
   "metadata": {},
   "outputs": [
    {
     "name": "stderr",
     "output_type": "stream",
     "text": [
      "Class AutoDeleteSettingSchema: This is an experimental class, and may change at any time. Please see https://aka.ms/azuremlexperimental for more information.\n",
      "Class AutoDeleteConditionSchema: This is an experimental class, and may change at any time. Please see https://aka.ms/azuremlexperimental for more information.\n",
      "Class BaseAutoDeleteSettingSchema: This is an experimental class, and may change at any time. Please see https://aka.ms/azuremlexperimental for more information.\n",
      "Class IntellectualPropertySchema: This is an experimental class, and may change at any time. Please see https://aka.ms/azuremlexperimental for more information.\n",
      "Class ProtectionLevelSchema: This is an experimental class, and may change at any time. Please see https://aka.ms/azuremlexperimental for more information.\n",
      "Class BaseIntellectualPropertySchema: This is an experimental class, and may change at any time. Please see https://aka.ms/azuremlexperimental for more information.\n",
      "\u001b[32mUploading pulmo-sense (75.29 MBs): 100%|██████████| 75293568/75293568 [00:07<00:00, 9464206.81it/s] \n",
      "\u001b[39m\n",
      "\n"
     ]
    },
    {
     "data": {
      "text/html": [
       "<table style=\"width:100%\"><tr><th>Experiment</th><th>Name</th><th>Type</th><th>Status</th><th>Details Page</th></tr><tr><td>vgg_multiclass</td><td>neat_dress_mplb4g5y3g</td><td>command</td><td>Starting</td><td><a href=\"https://ml.azure.com/runs/neat_dress_mplb4g5y3g?wsid=/subscriptions/9788a92c-2f71-4629-8173-7ad449cb50e1/resourcegroups/rg-azureml/workspaces/myexperiments&amp;tid=16b3c013-d300-468d-ac64-7eda0820b6d3\" target=\"_blank\" rel=\"noopener\">Link to Azure Machine Learning studio</a></td></tr></table>"
      ],
      "text/plain": [
       "Command({'parameters': {}, 'init': False, 'name': 'neat_dress_mplb4g5y3g', 'type': 'command', 'status': 'Starting', 'log_files': None, 'description': None, 'tags': {'num_epochs': '20', 'batch_size': '16', 'learning_rate': '0.0005', 'k': '5', 'i': '0', 'dataset': 'ccccii'}, 'properties': {'mlflow.source.git.repoURL': 'git@github.com:placerda/pulmo-sense.git', 'mlflow.source.git.branch': 'main', 'mlflow.source.git.commit': '92e321605108cb95f0758248224d303939b1973c', 'azureml.git.dirty': 'True', '_azureml.ComputeTargetType': 'amlctrain', '_azureml.ClusterName': 'gpucluteruk', 'ContentSnapshotId': '02ed0517-873b-43e6-a20b-ae93a28c894a'}, 'print_as_yaml': False, 'id': '/subscriptions/9788a92c-2f71-4629-8173-7ad449cb50e1/resourceGroups/rg-azureml/providers/Microsoft.MachineLearningServices/workspaces/myexperiments/jobs/neat_dress_mplb4g5y3g', 'Resource__source_path': '', 'base_path': '/home/paulo/workspace/doutorado/pulmo-sense/notebooks', 'creation_context': <azure.ai.ml.entities._system_data.SystemData object at 0x7f7f44165810>, 'serialize': <msrest.serialization.Serializer object at 0x7f7f20e0d850>, 'allowed_keys': {}, 'key_restriction': False, 'logger': <TraceLogger attr_dict (WARNING)>, 'display_name': 'vgg_multiclass 2024-12-28 12:32:55', 'experiment_name': 'vgg_multiclass', 'compute': 'gpucluteruk', 'services': {'Tracking': {'endpoint': 'azureml://eastus.api.azureml.ms/mlflow/v1.0/subscriptions/9788a92c-2f71-4629-8173-7ad449cb50e1/resourceGroups/rg-azureml/providers/Microsoft.MachineLearningServices/workspaces/myexperiments?', 'type': 'Tracking'}, 'Studio': {'endpoint': 'https://ml.azure.com/runs/neat_dress_mplb4g5y3g?wsid=/subscriptions/9788a92c-2f71-4629-8173-7ad449cb50e1/resourcegroups/rg-azureml/workspaces/myexperiments&tid=16b3c013-d300-468d-ac64-7eda0820b6d3', 'type': 'Studio'}}, 'comment': None, 'job_inputs': {'num_epochs': '20', 'batch_size': '16', 'learning_rate': '0.0005', 'k': '5', 'i': '0', 'dataset': 'ccccii'}, 'job_outputs': {'default': {'type': 'uri_folder', 'path': 'azureml://datastores/workspaceartifactstore/ExperimentRun/dcid.neat_dress_mplb4g5y3g', 'mode': 'rw_mount'}}, 'inputs': {'num_epochs': <azure.ai.ml.entities._job.pipeline._io.base.NodeInput object at 0x7f7f20e0ca10>, 'batch_size': <azure.ai.ml.entities._job.pipeline._io.base.NodeInput object at 0x7f7f20e0d010>, 'learning_rate': <azure.ai.ml.entities._job.pipeline._io.base.NodeInput object at 0x7f7f20e0e790>, 'k': <azure.ai.ml.entities._job.pipeline._io.base.NodeInput object at 0x7f7f20e0de10>, 'i': <azure.ai.ml.entities._job.pipeline._io.base.NodeInput object at 0x7f7f21838810>, 'dataset': <azure.ai.ml.entities._job.pipeline._io.base.NodeInput object at 0x7f7f20e0dc90>}, 'outputs': {'default': <azure.ai.ml.entities._job.pipeline._io.base.NodeOutput object at 0x7f7f20e15d10>}, 'component': CommandComponent({'latest_version': None, 'intellectual_property': None, 'auto_increment_version': True, 'source': 'REMOTE.WORKSPACE.JOB', 'is_anonymous': False, 'auto_delete_setting': None, 'name': 'neat_dress_mplb4g5y3g', 'description': None, 'tags': {'num_epochs': '20', 'batch_size': '16', 'learning_rate': '0.0005', 'k': '5', 'i': '0', 'dataset': 'ccccii'}, 'properties': {}, 'print_as_yaml': False, 'id': None, 'Resource__source_path': None, 'base_path': '/home/paulo/workspace/doutorado/pulmo-sense/notebooks', 'creation_context': <azure.ai.ml.entities._system_data.SystemData object at 0x7f7f44165810>, 'serialize': <msrest.serialization.Serializer object at 0x7f7f20e0d710>, 'command': 'python -m scripts.train.train_vgg_multiclass --run_cloud --dataset ${{inputs.dataset}} --k ${{inputs.k}} --i ${{inputs.i}} --num_epochs ${{inputs.num_epochs}} --batch_size ${{inputs.batch_size}} --learning_rate ${{inputs.learning_rate}} ', 'code': '/subscriptions/9788a92c-2f71-4629-8173-7ad449cb50e1/resourceGroups/rg-azureml/providers/Microsoft.MachineLearningServices/workspaces/myexperiments/codes/fa46100f-2cb5-4fae-b97f-86a260d66310/versions/1', 'environment_variables': {'AZURE_STORAGE_ACCOUNT': 'myexperiments0584390316', 'AZURE_STORAGE_KEY': 'GgRchFPTygHq+qqWRn/MLRgvcBL9BXk2Q47maKtDiEMeAyWqhKrdRyxTdFBkdozMyLRJg6WKeK2k+AStH2zfBQ==', 'BLOB_CONTAINER': 'datasets'}, 'environment': '/subscriptions/9788a92c-2f71-4629-8173-7ad449cb50e1/resourceGroups/rg-azureml/providers/Microsoft.MachineLearningServices/workspaces/myexperiments/environments/custom-acpt-pytorch-113-cuda117/versions/9', 'distribution': None, 'resources': None, 'queue_settings': None, 'version': None, 'schema': None, 'type': 'command', 'display_name': 'vgg_multiclass 2024-12-28 12:32:55', 'is_deterministic': True, 'inputs': {'num_epochs': {'type': 'string', 'default': '20'}, 'batch_size': {'type': 'string', 'default': '16'}, 'learning_rate': {'type': 'string', 'default': '0.0005'}, 'k': {'type': 'string', 'default': '5'}, 'i': {'type': 'string', 'default': '0'}, 'dataset': {'type': 'string', 'default': 'ccccii'}}, 'outputs': {'default': {'type': 'uri_folder', 'path': 'azureml://datastores/workspaceartifactstore/ExperimentRun/dcid.neat_dress_mplb4g5y3g', 'mode': 'rw_mount'}}, 'yaml_str': None, 'other_parameter': {'status': 'Starting', 'parameters': {}}, 'additional_includes': []}), 'referenced_control_flow_node_instance_id': None, 'kwargs': {'services': {'Tracking': {'endpoint': 'azureml://eastus.api.azureml.ms/mlflow/v1.0/subscriptions/9788a92c-2f71-4629-8173-7ad449cb50e1/resourceGroups/rg-azureml/providers/Microsoft.MachineLearningServices/workspaces/myexperiments?', 'type': 'Tracking'}, 'Studio': {'endpoint': 'https://ml.azure.com/runs/neat_dress_mplb4g5y3g?wsid=/subscriptions/9788a92c-2f71-4629-8173-7ad449cb50e1/resourcegroups/rg-azureml/workspaces/myexperiments&tid=16b3c013-d300-468d-ac64-7eda0820b6d3', 'type': 'Studio'}}, 'status': 'Starting', 'creation_context': <azure.ai.ml.entities._system_data.SystemData object at 0x7f7f44165810>}, 'instance_id': 'bf6cd4f2-879b-4395-b36a-f4429332d39b', 'source': 'BUILDER', 'validate_required_input_not_provided': True, 'limits': None, 'identity': None, 'distribution': None, 'environment_variables': {'AZURE_STORAGE_ACCOUNT': 'myexperiments0584390316', 'AZURE_STORAGE_KEY': 'GgRchFPTygHq+qqWRn/MLRgvcBL9BXk2Q47maKtDiEMeAyWqhKrdRyxTdFBkdozMyLRJg6WKeK2k+AStH2zfBQ==', 'BLOB_CONTAINER': 'datasets'}, 'environment': 'custom-acpt-pytorch-113-cuda117:9', 'resources': {'instance_count': 1, 'shm_size': '2g'}, 'queue_settings': None, 'swept': False})"
      ]
     },
     "execution_count": 3,
     "metadata": {},
     "output_type": "execute_result"
    }
   ],
   "source": [
    "# Azure ML environment and job setup\n",
    "custom_env_name = \"custom-acpt-pytorch-113-cuda117:9\"\n",
    "\n",
    "env_vars = {\n",
    "    'AZURE_STORAGE_ACCOUNT': os.getenv(\"AZURE_STORAGE_ACCOUNT\"),\n",
    "    'AZURE_STORAGE_KEY': os.getenv(\"AZURE_STORAGE_KEY\"),\n",
    "    'BLOB_CONTAINER': os.getenv(\"BLOB_CONTAINER\")\n",
    "}\n",
    "\n",
    "def get_display_name(base_name):\n",
    "    current_time = datetime.now().strftime(\"%Y-%m-%d %H:%M:%S\")\n",
    "    display_name = f\"{base_name} {current_time}\"\n",
    "    return display_name\n",
    "\n",
    "experiment_name = \"vgg_multiclass\"\n",
    "\n",
    "inputs = {\n",
    "        \"num_epochs\": 20,\n",
    "        \"batch_size\": 16,\n",
    "        \"learning_rate\": 0.0005,\n",
    "        \"k\": 5,\n",
    "        \"i\": 0,\n",
    "        \"dataset\": \"ccccii\"\n",
    "    }\n",
    "\n",
    "job = command(\n",
    "    inputs=inputs,\n",
    "    compute=gpu_compute_target,\n",
    "    environment=custom_env_name,\n",
    "    code=\"../\",  # location of source code\n",
    "    command=(\n",
    "        \"python -m scripts.train.train_vgg_multiclass \"\n",
    "        \"--run_cloud \"\n",
    "        \"--dataset ${{inputs.dataset}} \"\n",
    "        \"--k ${{inputs.k}} \"\n",
    "        \"--i ${{inputs.i}} \"\n",
    "        \"--num_epochs ${{inputs.num_epochs}} \"\n",
    "        \"--batch_size ${{inputs.batch_size}} \"\n",
    "        \"--learning_rate ${{inputs.learning_rate}} \"\n",
    "    ),\n",
    "    environment_variables=env_vars,\n",
    "    experiment_name=experiment_name,\n",
    "    display_name=get_display_name(experiment_name),\n",
    "    tags={key: str(value) for key, value in inputs.items()}\n",
    ")\n",
    "\n",
    "\n",
    "ml_client.jobs.create_or_update(job)\n"
   ]
  }
 ],
 "metadata": {
  "kernelspec": {
   "display_name": "pulmo-sense",
   "language": "python",
   "name": "python3"
  },
  "language_info": {
   "codemirror_mode": {
    "name": "ipython",
    "version": 3
   },
   "file_extension": ".py",
   "mimetype": "text/x-python",
   "name": "python",
   "nbconvert_exporter": "python",
   "pygments_lexer": "ipython3",
   "version": "3.11.11"
  }
 },
 "nbformat": 4,
 "nbformat_minor": 2
}
