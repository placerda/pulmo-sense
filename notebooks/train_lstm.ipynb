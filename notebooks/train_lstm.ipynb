{
 "cells": [
  {
   "cell_type": "markdown",
   "metadata": {},
   "source": [
    "### Train LSTM\n",
    "\n",
    "Reference: https://learn.microsoft.com/en-us/azure/machine-learning/how-to-train-pytorch?view=azureml-api-2"
   ]
  },
  {
   "cell_type": "code",
   "execution_count": 4,
   "metadata": {},
   "outputs": [],
   "source": [
    "# Import necessary libraries\n",
    "from dotenv import load_dotenv\n",
    "from datetime import datetime\n",
    "import os\n",
    "\n",
    "# Load the .env file\n",
    "load_dotenv()\n",
    "\n",
    "# Common variables\n",
    "network = \"lstm_multiclass\"\n",
    "dataset = \"ccccii\"\n",
    "k = 5\n",
    "i = 0\n",
    "num_epochs = 20\n",
    "learning_rate = 0.0005\n",
    "batch_size = 16\n",
    "max_samples = 0\n"
   ]
  },
  {
   "cell_type": "code",
   "execution_count": 5,
   "metadata": {},
   "outputs": [
    {
     "name": "stdout",
     "output_type": "stream",
     "text": [
      "You already have a cluster named gpucluteruk, we'll reuse it as is.\n",
      "AMLCompute with name gpucluteruk is created, the compute size is Standard_ND96amsr_A100_v4\n"
     ]
    }
   ],
   "source": [
    "# Azure ML specific imports\n",
    "from azure.ai.ml import MLClient\n",
    "from azure.identity import DefaultAzureCredential\n",
    "from azure.ai.ml.entities import AmlCompute\n",
    "from azure.ai.ml import command\n",
    "\n",
    "# Configure the Azure workspace and authentication\n",
    "subscription_id = os.getenv(\"AZURE_SUBSCRIPTION_ID\")\n",
    "resource_group_name = os.getenv(\"AZURE_RESOURCE_GROUP\")\n",
    "workspace_name = os.getenv(\"AZURE_WORKSPACE_NAME\")\n",
    "\n",
    "credential = DefaultAzureCredential()\n",
    "ml_client = MLClient(\n",
    "    credential=credential,\n",
    "    subscription_id=subscription_id,\n",
    "    resource_group_name=resource_group_name,\n",
    "    workspace_name=workspace_name,\n",
    ")\n",
    "\n",
    "# Create or get the GPU cluster\n",
    "gpu_compute_target = \"gpucluteruk\"\n",
    "try:\n",
    "    gpu_cluster = ml_client.compute.get(gpu_compute_target)\n",
    "    print(f\"You already have a cluster named {gpu_compute_target}, we'll reuse it as is.\")\n",
    "except Exception:\n",
    "    print(\"Creating a new GPU compute target...\")\n",
    "    gpu_cluster = AmlCompute(\n",
    "        name=gpu_compute_target,\n",
    "        type=\"amlcompute\",\n",
    "        size=\"Standard_ND96amsr_A100_v4\",\n",
    "        min_instances=1,\n",
    "        max_instances=4,\n",
    "        idle_time_before_scale_down=180,\n",
    "        tier=\"Dedicated\",\n",
    "    )\n",
    "    gpu_cluster = ml_client.begin_create_or_update(gpu_cluster).result()\n",
    "print(f\"AMLCompute with name {gpu_cluster.name} is created, the compute size is {gpu_cluster.size}\")\n"
   ]
  },
  {
   "cell_type": "code",
   "execution_count": 6,
   "metadata": {},
   "outputs": [
    {
     "name": "stderr",
     "output_type": "stream",
     "text": [
      "\u001b[32mUploading pulmo-sense (74.57 MBs): 100%|██████████| 74565621/74565621 [00:14<00:00, 5138928.93it/s]\n",
      "\u001b[39m\n",
      "\n"
     ]
    },
    {
     "data": {
      "text/html": [
       "<table style=\"width:100%\"><tr><th>Experiment</th><th>Name</th><th>Type</th><th>Status</th><th>Details Page</th></tr><tr><td>lstm_multiclass</td><td>silly_actor_465q8vpygr</td><td>command</td><td>Starting</td><td><a href=\"https://ml.azure.com/runs/silly_actor_465q8vpygr?wsid=/subscriptions/9788a92c-2f71-4629-8173-7ad449cb50e1/resourcegroups/rg-azureml/workspaces/myexperiments&amp;tid=16b3c013-d300-468d-ac64-7eda0820b6d3\" target=\"_blank\" rel=\"noopener\">Link to Azure Machine Learning studio</a></td></tr></table>"
      ],
      "text/plain": [
       "Command({'parameters': {}, 'init': False, 'name': 'silly_actor_465q8vpygr', 'type': 'command', 'status': 'Starting', 'log_files': None, 'description': None, 'tags': {'pretrained_model': 'affable_guitar_dc0ljjg75w/cnn_multiclass_92208smps_014epoch_0.00050lr_0.923rec.pth', 'network': 'lstm_multiclass', 'dataset': 'ccccii', 'k': '5', 'i': '0', 'num_epochs': '20', 'learning_rate': '0.0005', 'batch_size': '16', 'max_samples': '0'}, 'properties': {'mlflow.source.git.repoURL': 'git@github.com:placerda/pulmo-sense.git', 'mlflow.source.git.branch': 'main', 'mlflow.source.git.commit': '559d2266cadfe297e62626ba1a956d52ee31d23f', 'azureml.git.dirty': 'False', '_azureml.ComputeTargetType': 'amlctrain', '_azureml.ClusterName': 'gpucluteruk', 'ContentSnapshotId': 'ea5ad148-4282-4d73-b982-e575ec8ebc77'}, 'print_as_yaml': False, 'id': '/subscriptions/9788a92c-2f71-4629-8173-7ad449cb50e1/resourceGroups/rg-azureml/providers/Microsoft.MachineLearningServices/workspaces/myexperiments/jobs/silly_actor_465q8vpygr', 'Resource__source_path': '', 'base_path': '/home/paulo/workspace/doutorado/pulmo-sense/notebooks', 'creation_context': <azure.ai.ml.entities._system_data.SystemData object at 0x7fb886c10310>, 'serialize': <msrest.serialization.Serializer object at 0x7fb8841acb10>, 'allowed_keys': {}, 'key_restriction': False, 'logger': <TraceLogger attr_dict (WARNING)>, 'display_name': 'lstm_multiclass 2024-12-30 10:50:11', 'experiment_name': 'lstm_multiclass', 'compute': 'gpucluteruk', 'services': {'Tracking': {'endpoint': 'azureml://eastus.api.azureml.ms/mlflow/v1.0/subscriptions/9788a92c-2f71-4629-8173-7ad449cb50e1/resourceGroups/rg-azureml/providers/Microsoft.MachineLearningServices/workspaces/myexperiments?', 'type': 'Tracking'}, 'Studio': {'endpoint': 'https://ml.azure.com/runs/silly_actor_465q8vpygr?wsid=/subscriptions/9788a92c-2f71-4629-8173-7ad449cb50e1/resourcegroups/rg-azureml/workspaces/myexperiments&tid=16b3c013-d300-468d-ac64-7eda0820b6d3', 'type': 'Studio'}}, 'comment': None, 'job_inputs': {'network': 'lstm_multiclass', 'dataset': 'ccccii', 'k': '5', 'i': '0', 'num_epochs': '20', 'learning_rate': '0.0005', 'batch_size': '16', 'max_samples': '0'}, 'job_outputs': {'default': {'type': 'uri_folder', 'path': 'azureml://datastores/workspaceartifactstore/ExperimentRun/dcid.silly_actor_465q8vpygr', 'mode': 'rw_mount'}}, 'inputs': {'network': <azure.ai.ml.entities._job.pipeline._io.base.NodeInput object at 0x7fb8841af4d0>, 'dataset': <azure.ai.ml.entities._job.pipeline._io.base.NodeInput object at 0x7fb8841aef50>, 'k': <azure.ai.ml.entities._job.pipeline._io.base.NodeInput object at 0x7fb8841ac0d0>, 'i': <azure.ai.ml.entities._job.pipeline._io.base.NodeInput object at 0x7fb8841acf50>, 'num_epochs': <azure.ai.ml.entities._job.pipeline._io.base.NodeInput object at 0x7fb8841afb90>, 'learning_rate': <azure.ai.ml.entities._job.pipeline._io.base.NodeInput object at 0x7fb8841ad490>, 'batch_size': <azure.ai.ml.entities._job.pipeline._io.base.NodeInput object at 0x7fb8841ad810>, 'max_samples': <azure.ai.ml.entities._job.pipeline._io.base.NodeInput object at 0x7fb8841acc90>}, 'outputs': {'default': <azure.ai.ml.entities._job.pipeline._io.base.NodeOutput object at 0x7fb8852bb850>}, 'component': CommandComponent({'latest_version': None, 'intellectual_property': None, 'auto_increment_version': True, 'source': 'REMOTE.WORKSPACE.JOB', 'is_anonymous': False, 'auto_delete_setting': None, 'name': 'silly_actor_465q8vpygr', 'description': None, 'tags': {'pretrained_model': 'affable_guitar_dc0ljjg75w/cnn_multiclass_92208smps_014epoch_0.00050lr_0.923rec.pth', 'network': 'lstm_multiclass', 'dataset': 'ccccii', 'k': '5', 'i': '0', 'num_epochs': '20', 'learning_rate': '0.0005', 'batch_size': '16', 'max_samples': '0'}, 'properties': {}, 'print_as_yaml': False, 'id': None, 'Resource__source_path': None, 'base_path': '/home/paulo/workspace/doutorado/pulmo-sense/notebooks', 'creation_context': <azure.ai.ml.entities._system_data.SystemData object at 0x7fb886c10310>, 'serialize': <msrest.serialization.Serializer object at 0x7fb8841afe90>, 'command': 'python -m scripts.train.train_lstm_multiclass --run_cloud --dataset ${{inputs.dataset}} --k ${{inputs.k}} --i ${{inputs.i}} --num_epochs ${{inputs.num_epochs}} --batch_size ${{inputs.batch_size}} --learning_rate ${{inputs.learning_rate}} --max_samples ${{inputs.max_samples}}', 'code': '/subscriptions/9788a92c-2f71-4629-8173-7ad449cb50e1/resourceGroups/rg-azureml/providers/Microsoft.MachineLearningServices/workspaces/myexperiments/codes/54c2f727-609e-42f5-8942-2fe81807e234/versions/1', 'environment_variables': {'AZURE_STORAGE_ACCOUNT': 'myexperiments0584390316', 'AZURE_STORAGE_KEY': 'GgRchFPTygHq+qqWRn/MLRgvcBL9BXk2Q47maKtDiEMeAyWqhKrdRyxTdFBkdozMyLRJg6WKeK2k+AStH2zfBQ==', 'BLOB_CONTAINER': 'datasets', 'PRETRAINED_CNN_MODEL_URI': 'https://myexperiments0584390316.blob.core.windows.net/azureml/ExperimentRun/dcid.affable_guitar_dc0ljjg75w/outputs/cnn_multiclass_92208smps_014epoch_0.00050lr_0.923rec.pth'}, 'environment': '/subscriptions/9788a92c-2f71-4629-8173-7ad449cb50e1/resourceGroups/rg-azureml/providers/Microsoft.MachineLearningServices/workspaces/myexperiments/environments/custom-acpt-pytorch-113-cuda117/versions/10', 'distribution': None, 'resources': None, 'queue_settings': None, 'version': None, 'schema': None, 'type': 'command', 'display_name': 'lstm_multiclass 2024-12-30 10:50:11', 'is_deterministic': True, 'inputs': {'network': {'type': 'string', 'default': 'lstm_multiclass'}, 'dataset': {'type': 'string', 'default': 'ccccii'}, 'k': {'type': 'string', 'default': '5'}, 'i': {'type': 'string', 'default': '0'}, 'num_epochs': {'type': 'string', 'default': '20'}, 'learning_rate': {'type': 'string', 'default': '0.0005'}, 'batch_size': {'type': 'string', 'default': '16'}, 'max_samples': {'type': 'string', 'default': '0'}}, 'outputs': {'default': {'type': 'uri_folder', 'path': 'azureml://datastores/workspaceartifactstore/ExperimentRun/dcid.silly_actor_465q8vpygr', 'mode': 'rw_mount'}}, 'yaml_str': None, 'other_parameter': {'status': 'Starting', 'parameters': {}}, 'additional_includes': []}), 'referenced_control_flow_node_instance_id': None, 'kwargs': {'services': {'Tracking': {'endpoint': 'azureml://eastus.api.azureml.ms/mlflow/v1.0/subscriptions/9788a92c-2f71-4629-8173-7ad449cb50e1/resourceGroups/rg-azureml/providers/Microsoft.MachineLearningServices/workspaces/myexperiments?', 'type': 'Tracking'}, 'Studio': {'endpoint': 'https://ml.azure.com/runs/silly_actor_465q8vpygr?wsid=/subscriptions/9788a92c-2f71-4629-8173-7ad449cb50e1/resourcegroups/rg-azureml/workspaces/myexperiments&tid=16b3c013-d300-468d-ac64-7eda0820b6d3', 'type': 'Studio'}}, 'status': 'Starting', 'creation_context': <azure.ai.ml.entities._system_data.SystemData object at 0x7fb886c10310>}, 'instance_id': 'b275235e-8b40-45b9-9c49-a69b79ab0dbf', 'source': 'BUILDER', 'validate_required_input_not_provided': True, 'limits': None, 'identity': None, 'distribution': None, 'environment_variables': {'AZURE_STORAGE_ACCOUNT': 'myexperiments0584390316', 'AZURE_STORAGE_KEY': 'GgRchFPTygHq+qqWRn/MLRgvcBL9BXk2Q47maKtDiEMeAyWqhKrdRyxTdFBkdozMyLRJg6WKeK2k+AStH2zfBQ==', 'BLOB_CONTAINER': 'datasets', 'PRETRAINED_CNN_MODEL_URI': 'https://myexperiments0584390316.blob.core.windows.net/azureml/ExperimentRun/dcid.affable_guitar_dc0ljjg75w/outputs/cnn_multiclass_92208smps_014epoch_0.00050lr_0.923rec.pth'}, 'environment': 'custom-acpt-pytorch-113-cuda117:10', 'resources': {'instance_count': 1, 'shm_size': '2g'}, 'queue_settings': None, 'swept': False})"
      ]
     },
     "execution_count": 6,
     "metadata": {},
     "output_type": "execute_result"
    }
   ],
   "source": [
    "# Azure ML environment and job setup\n",
    "custom_env_name = \"custom-acpt-pytorch-113-cuda117:10\"\n",
    "\n",
    "env_vars = {\n",
    "    'AZURE_STORAGE_ACCOUNT': os.getenv(\"AZURE_STORAGE_ACCOUNT\"),\n",
    "    'AZURE_STORAGE_KEY': os.getenv(\"AZURE_STORAGE_KEY\"),\n",
    "    'BLOB_CONTAINER': os.getenv(\"BLOB_CONTAINER\"),\n",
    "    'PRETRAINED_CNN_MODEL_URI': os.getenv('PRETRAINED_CNN_MODEL_URI')\n",
    "}\n",
    "\n",
    "inputs = {\n",
    "    'network': network,\n",
    "    'dataset': dataset, \n",
    "    'k': k, \n",
    "    'i': i, \n",
    "    'num_epochs': num_epochs, \n",
    "    'learning_rate': learning_rate, \n",
    "    'batch_size': batch_size,\n",
    "    'max_samples': max_samples\n",
    "}\n",
    "\n",
    "\n",
    "def get_display_name(base_name):\n",
    "    current_time = datetime.now().strftime(\"%Y-%m-%d %H:%M:%S\")\n",
    "    display_name = f\"{base_name} {current_time}\"\n",
    "    return display_name\n",
    "\n",
    "experiment_name = \"lstm_multiclass\"\n",
    "\n",
    "# Tags\n",
    "import urllib\n",
    "parsed_url = urllib.parse.urlparse(os.getenv('PRETRAINED_CNN_MODEL_URI'))\n",
    "path_parts = parsed_url.path.split('/')\n",
    "pre_trained_model = path_parts[3].replace('dcid.', '') + '/' + path_parts[5]\n",
    "tags = {'pretrained_model': pre_trained_model}\n",
    "tags.update({key: str(value) for key, value in inputs.items()})\n",
    "\n",
    "# Run job\n",
    "job = command(\n",
    "    inputs = inputs,\n",
    "    compute=gpu_compute_target,\n",
    "    environment=custom_env_name,\n",
    "    code=\"../\",  # location of source code\n",
    "    command=\"python -m scripts.train.train_lstm_multiclass --run_cloud --dataset ${{inputs.dataset}} --k ${{inputs.k}} --i ${{inputs.i}} --num_epochs ${{inputs.num_epochs}} --batch_size ${{inputs.batch_size}} --learning_rate ${{inputs.learning_rate}} --max_samples ${{inputs.max_samples}}\",\n",
    "    environment_variables=env_vars,\n",
    "    experiment_name=experiment_name,\n",
    "    display_name=get_display_name(experiment_name),\n",
    "    tags=tags,\n",
    ")\n",
    "\n",
    "ml_client.jobs.create_or_update(job)\n",
    "\n",
    "\n"
   ]
  }
 ],
 "metadata": {
  "kernelspec": {
   "display_name": "pulmo-sense",
   "language": "python",
   "name": "python3"
  },
  "language_info": {
   "codemirror_mode": {
    "name": "ipython",
    "version": 3
   },
   "file_extension": ".py",
   "mimetype": "text/x-python",
   "name": "python",
   "nbconvert_exporter": "python",
   "pygments_lexer": "ipython3",
   "version": "3.11.11"
  }
 },
 "nbformat": 4,
 "nbformat_minor": 2
}
