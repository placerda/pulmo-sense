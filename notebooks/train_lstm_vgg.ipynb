{
 "cells": [
  {
   "cell_type": "markdown",
   "metadata": {},
   "source": [
    "### Train LSTM VGG\n",
    "\n",
    "Reference: https://learn.microsoft.com/en-us/azure/machine-learning/how-to-train-pytorch?view=azureml-api-2"
   ]
  },
  {
   "cell_type": "code",
   "execution_count": 10,
   "metadata": {},
   "outputs": [],
   "source": [
    "# Import necessary libraries\n",
    "from dotenv import load_dotenv\n",
    "from datetime import datetime\n",
    "import os\n",
    "\n",
    "# Load the .env file\n",
    "load_dotenv()\n",
    "\n",
    "# Common variables\n",
    "network = \"lstm_vgg_multiclass\"\n",
    "dataset = \"ccccii\"\n",
    "k = 5\n",
    "i = 0\n",
    "num_epochs = 20\n",
    "learning_rate = 0.0005\n",
    "batch_size = 16\n",
    "max_samples = 0\n"
   ]
  },
  {
   "cell_type": "code",
   "execution_count": 11,
   "metadata": {},
   "outputs": [
    {
     "name": "stdout",
     "output_type": "stream",
     "text": [
      "You already have a cluster named gpucluteruk, we'll reuse it as is.\n",
      "AMLCompute with name gpucluteruk is created, the compute size is Standard_ND96amsr_A100_v4\n"
     ]
    }
   ],
   "source": [
    "# Azure ML specific imports\n",
    "from azure.ai.ml import MLClient\n",
    "from azure.identity import DefaultAzureCredential\n",
    "from azure.ai.ml.entities import AmlCompute\n",
    "from azure.ai.ml import command\n",
    "\n",
    "# Configure the Azure workspace and authentication\n",
    "subscription_id = os.getenv(\"AZURE_SUBSCRIPTION_ID\")\n",
    "resource_group_name = os.getenv(\"AZURE_RESOURCE_GROUP\")\n",
    "workspace_name = os.getenv(\"AZURE_WORKSPACE_NAME\")\n",
    "\n",
    "credential = DefaultAzureCredential()\n",
    "ml_client = MLClient(\n",
    "    credential=credential,\n",
    "    subscription_id=subscription_id,\n",
    "    resource_group_name=resource_group_name,\n",
    "    workspace_name=workspace_name,\n",
    ")\n",
    "\n",
    "# Create or get the GPU cluster\n",
    "gpu_compute_target = \"gpucluteruk\"\n",
    "try:\n",
    "    gpu_cluster = ml_client.compute.get(gpu_compute_target)\n",
    "    print(f\"You already have a cluster named {gpu_compute_target}, we'll reuse it as is.\")\n",
    "except Exception:\n",
    "    print(\"Creating a new GPU compute target...\")\n",
    "    gpu_cluster = AmlCompute(\n",
    "        name=gpu_compute_target,\n",
    "        type=\"amlcompute\",\n",
    "        size=\"Standard_ND96amsr_A100_v4\",\n",
    "        min_instances=1,\n",
    "        max_instances=4,\n",
    "        idle_time_before_scale_down=180,\n",
    "        tier=\"Dedicated\",\n",
    "    )\n",
    "    gpu_cluster = ml_client.begin_create_or_update(gpu_cluster).result()\n",
    "print(f\"AMLCompute with name {gpu_cluster.name} is created, the compute size is {gpu_cluster.size}\")\n"
   ]
  },
  {
   "cell_type": "code",
   "execution_count": 12,
   "metadata": {},
   "outputs": [
    {
     "name": "stderr",
     "output_type": "stream",
     "text": [
      "\u001b[32mUploading pulmo-sense (74.68 MBs): 100%|██████████| 74678781/74678781 [00:05<00:00, 13940249.88it/s]\n",
      "\u001b[39m\n",
      "\n"
     ]
    },
    {
     "data": {
      "text/html": [
       "<table style=\"width:100%\"><tr><th>Experiment</th><th>Name</th><th>Type</th><th>Status</th><th>Details Page</th></tr><tr><td>lstm_vgg_multiclass</td><td>jolly_collar_cfwstwgg7d</td><td>command</td><td>Starting</td><td><a href=\"https://ml.azure.com/runs/jolly_collar_cfwstwgg7d?wsid=/subscriptions/9788a92c-2f71-4629-8173-7ad449cb50e1/resourcegroups/rg-azureml/workspaces/myexperiments&amp;tid=16b3c013-d300-468d-ac64-7eda0820b6d3\" target=\"_blank\" rel=\"noopener\">Link to Azure Machine Learning studio</a></td></tr></table>"
      ],
      "text/plain": [
       "Command({'parameters': {}, 'init': False, 'name': 'jolly_collar_cfwstwgg7d', 'type': 'command', 'status': 'Starting', 'log_files': None, 'description': None, 'tags': {'pretrained_model': 'neat_dress_mplb4g5y3g/cnn_multiclass_800smps_001epoch_0.00050lr_0.333rec.pth', 'network': 'lstm_vgg_multiclass', 'dataset': 'ccccii', 'k': '5', 'i': '0', 'num_epochs': '20', 'learning_rate': '0.0005', 'batch_size': '16', 'max_samples': '0'}, 'properties': {'mlflow.source.git.repoURL': 'git@github.com:placerda/pulmo-sense.git', 'mlflow.source.git.branch': 'main', 'mlflow.source.git.commit': '54cd49660878e09bacfa0a01c365d59d0f8dfc9f', 'azureml.git.dirty': 'True', '_azureml.ComputeTargetType': 'amlctrain', '_azureml.ClusterName': 'gpucluteruk', 'ContentSnapshotId': '364af375-c726-40cf-aca7-7fe0b847b9f6'}, 'print_as_yaml': False, 'id': '/subscriptions/9788a92c-2f71-4629-8173-7ad449cb50e1/resourceGroups/rg-azureml/providers/Microsoft.MachineLearningServices/workspaces/myexperiments/jobs/jolly_collar_cfwstwgg7d', 'Resource__source_path': '', 'base_path': '/home/paulo/workspace/doutorado/pulmo-sense/notebooks', 'creation_context': <azure.ai.ml.entities._system_data.SystemData object at 0x7f5eb3f5ba10>, 'serialize': <msrest.serialization.Serializer object at 0x7f5eb3c90e50>, 'allowed_keys': {}, 'key_restriction': False, 'logger': <TraceLogger attr_dict (WARNING)>, 'display_name': 'lstm_vgg_multiclass 2025-01-03 17:28:07', 'experiment_name': 'lstm_vgg_multiclass', 'compute': 'gpucluteruk', 'services': {'Tracking': {'endpoint': 'azureml://eastus.api.azureml.ms/mlflow/v1.0/subscriptions/9788a92c-2f71-4629-8173-7ad449cb50e1/resourceGroups/rg-azureml/providers/Microsoft.MachineLearningServices/workspaces/myexperiments?', 'type': 'Tracking'}, 'Studio': {'endpoint': 'https://ml.azure.com/runs/jolly_collar_cfwstwgg7d?wsid=/subscriptions/9788a92c-2f71-4629-8173-7ad449cb50e1/resourcegroups/rg-azureml/workspaces/myexperiments&tid=16b3c013-d300-468d-ac64-7eda0820b6d3', 'type': 'Studio'}}, 'comment': None, 'job_inputs': {'network': 'lstm_vgg_multiclass', 'dataset': 'ccccii', 'k': '5', 'i': '0', 'num_epochs': '20', 'learning_rate': '0.0005', 'batch_size': '16', 'max_samples': '0'}, 'job_outputs': {'default': {'type': 'uri_folder', 'path': 'azureml://datastores/workspaceartifactstore/ExperimentRun/dcid.jolly_collar_cfwstwgg7d', 'mode': 'rw_mount'}}, 'inputs': {'network': <azure.ai.ml.entities._job.pipeline._io.base.NodeInput object at 0x7f5eb3c2be10>, 'dataset': <azure.ai.ml.entities._job.pipeline._io.base.NodeInput object at 0x7f5eb3c93750>, 'k': <azure.ai.ml.entities._job.pipeline._io.base.NodeInput object at 0x7f5eb3c924d0>, 'i': <azure.ai.ml.entities._job.pipeline._io.base.NodeInput object at 0x7f5eb3c91c90>, 'num_epochs': <azure.ai.ml.entities._job.pipeline._io.base.NodeInput object at 0x7f5eb3c92e90>, 'learning_rate': <azure.ai.ml.entities._job.pipeline._io.base.NodeInput object at 0x7f5eb3c92410>, 'batch_size': <azure.ai.ml.entities._job.pipeline._io.base.NodeInput object at 0x7f5eb3c92910>, 'max_samples': <azure.ai.ml.entities._job.pipeline._io.base.NodeInput object at 0x7f5eb3c92150>}, 'outputs': {'default': <azure.ai.ml.entities._job.pipeline._io.base.NodeOutput object at 0x7f5eb3c2a390>}, 'component': CommandComponent({'latest_version': None, 'intellectual_property': None, 'auto_increment_version': True, 'source': 'REMOTE.WORKSPACE.JOB', 'is_anonymous': False, 'auto_delete_setting': None, 'name': 'jolly_collar_cfwstwgg7d', 'description': None, 'tags': {'pretrained_model': 'neat_dress_mplb4g5y3g/cnn_multiclass_800smps_001epoch_0.00050lr_0.333rec.pth', 'network': 'lstm_vgg_multiclass', 'dataset': 'ccccii', 'k': '5', 'i': '0', 'num_epochs': '20', 'learning_rate': '0.0005', 'batch_size': '16', 'max_samples': '0'}, 'properties': {}, 'print_as_yaml': False, 'id': None, 'Resource__source_path': None, 'base_path': '/home/paulo/workspace/doutorado/pulmo-sense/notebooks', 'creation_context': <azure.ai.ml.entities._system_data.SystemData object at 0x7f5eb3f5ba10>, 'serialize': <msrest.serialization.Serializer object at 0x7f5eb3c91b10>, 'command': 'python -m scripts.train.train_lstm_vgg_multiclass --run_cloud --dataset ${{inputs.dataset}} --k ${{inputs.k}} --i ${{inputs.i}} --num_epochs ${{inputs.num_epochs}} --batch_size ${{inputs.batch_size}} --learning_rate ${{inputs.learning_rate}} --max_samples ${{inputs.max_samples}}', 'code': '/subscriptions/9788a92c-2f71-4629-8173-7ad449cb50e1/resourceGroups/rg-azureml/providers/Microsoft.MachineLearningServices/workspaces/myexperiments/codes/6e2eb84e-5cf3-4bf2-b6d8-bdd13618da4a/versions/1', 'environment_variables': {'AZURE_STORAGE_ACCOUNT': 'myexperiments0584390316', 'AZURE_STORAGE_KEY': 'GgRchFPTygHq+qqWRn/MLRgvcBL9BXk2Q47maKtDiEMeAyWqhKrdRyxTdFBkdozMyLRJg6WKeK2k+AStH2zfBQ==', 'BLOB_CONTAINER': 'datasets', 'PRETRAINED_VGG_MODEL_URI': 'https://myexperiments0584390316.blob.core.windows.net/azureml/ExperimentRun/dcid.neat_dress_mplb4g5y3g/outputs/cnn_multiclass_800smps_001epoch_0.00050lr_0.333rec.pth'}, 'environment': '/subscriptions/9788a92c-2f71-4629-8173-7ad449cb50e1/resourceGroups/rg-azureml/providers/Microsoft.MachineLearningServices/workspaces/myexperiments/environments/custom-acpt-pytorch-113-cuda117/versions/10', 'distribution': None, 'resources': None, 'queue_settings': None, 'version': None, 'schema': None, 'type': 'command', 'display_name': 'lstm_vgg_multiclass 2025-01-03 17:28:07', 'is_deterministic': True, 'inputs': {'network': {'type': 'string', 'default': 'lstm_vgg_multiclass'}, 'dataset': {'type': 'string', 'default': 'ccccii'}, 'k': {'type': 'string', 'default': '5'}, 'i': {'type': 'string', 'default': '0'}, 'num_epochs': {'type': 'string', 'default': '20'}, 'learning_rate': {'type': 'string', 'default': '0.0005'}, 'batch_size': {'type': 'string', 'default': '16'}, 'max_samples': {'type': 'string', 'default': '0'}}, 'outputs': {'default': {'type': 'uri_folder', 'path': 'azureml://datastores/workspaceartifactstore/ExperimentRun/dcid.jolly_collar_cfwstwgg7d', 'mode': 'rw_mount'}}, 'yaml_str': None, 'other_parameter': {'status': 'Starting', 'parameters': {}}, 'additional_includes': []}), 'referenced_control_flow_node_instance_id': None, 'kwargs': {'services': {'Tracking': {'endpoint': 'azureml://eastus.api.azureml.ms/mlflow/v1.0/subscriptions/9788a92c-2f71-4629-8173-7ad449cb50e1/resourceGroups/rg-azureml/providers/Microsoft.MachineLearningServices/workspaces/myexperiments?', 'type': 'Tracking'}, 'Studio': {'endpoint': 'https://ml.azure.com/runs/jolly_collar_cfwstwgg7d?wsid=/subscriptions/9788a92c-2f71-4629-8173-7ad449cb50e1/resourcegroups/rg-azureml/workspaces/myexperiments&tid=16b3c013-d300-468d-ac64-7eda0820b6d3', 'type': 'Studio'}}, 'status': 'Starting', 'creation_context': <azure.ai.ml.entities._system_data.SystemData object at 0x7f5eb3f5ba10>}, 'instance_id': 'c53a3639-9923-45ce-a7bc-77630b6f1f0c', 'source': 'BUILDER', 'validate_required_input_not_provided': True, 'limits': None, 'identity': None, 'distribution': None, 'environment_variables': {'AZURE_STORAGE_ACCOUNT': 'myexperiments0584390316', 'AZURE_STORAGE_KEY': 'GgRchFPTygHq+qqWRn/MLRgvcBL9BXk2Q47maKtDiEMeAyWqhKrdRyxTdFBkdozMyLRJg6WKeK2k+AStH2zfBQ==', 'BLOB_CONTAINER': 'datasets', 'PRETRAINED_VGG_MODEL_URI': 'https://myexperiments0584390316.blob.core.windows.net/azureml/ExperimentRun/dcid.neat_dress_mplb4g5y3g/outputs/cnn_multiclass_800smps_001epoch_0.00050lr_0.333rec.pth'}, 'environment': 'custom-acpt-pytorch-113-cuda117:10', 'resources': {'instance_count': 1, 'shm_size': '2g'}, 'queue_settings': None, 'swept': False})"
      ]
     },
     "execution_count": 12,
     "metadata": {},
     "output_type": "execute_result"
    }
   ],
   "source": [
    "# Azure ML environment and job setup\n",
    "custom_env_name = \"custom-acpt-pytorch-113-cuda117:10\"\n",
    "\n",
    "env_vars = {\n",
    "    'AZURE_STORAGE_ACCOUNT': os.getenv(\"AZURE_STORAGE_ACCOUNT\"),\n",
    "    'AZURE_STORAGE_KEY': os.getenv(\"AZURE_STORAGE_KEY\"),\n",
    "    'BLOB_CONTAINER': os.getenv(\"BLOB_CONTAINER\"),\n",
    "    'PRETRAINED_VGG_MODEL_URI': os.getenv('PRETRAINED_VGG_MODEL_URI')\n",
    "}\n",
    "\n",
    "inputs = {\n",
    "    'network': network,\n",
    "    'dataset': dataset, \n",
    "    'k': k, \n",
    "    'i': i, \n",
    "    'num_epochs': num_epochs, \n",
    "    'learning_rate': learning_rate, \n",
    "    'batch_size': batch_size,\n",
    "    'max_samples': max_samples\n",
    "}\n",
    "\n",
    "\n",
    "def get_display_name(base_name):\n",
    "    current_time = datetime.now().strftime(\"%Y-%m-%d %H:%M:%S\")\n",
    "    display_name = f\"{base_name} {current_time}\"\n",
    "    return display_name\n",
    "\n",
    "experiment_name = \"lstm_vgg_multiclass\"\n",
    "\n",
    "# Tags\n",
    "import urllib\n",
    "parsed_url = urllib.parse.urlparse(os.getenv('PRETRAINED_VGG_MODEL_URI'))\n",
    "path_parts = parsed_url.path.split('/')\n",
    "pre_trained_model = path_parts[3].replace('dcid.', '') + '/' + path_parts[5]\n",
    "tags = {'pretrained_model': pre_trained_model}\n",
    "tags.update({key: str(value) for key, value in inputs.items()})\n",
    "\n",
    "# Run job\n",
    "job = command(\n",
    "    inputs = inputs,\n",
    "    compute=gpu_compute_target,\n",
    "    environment=custom_env_name,\n",
    "    code=\"../\",  # location of source code\n",
    "    command=\"python -m scripts.train.train_lstm_vgg_multiclass --run_cloud --dataset ${{inputs.dataset}} --k ${{inputs.k}} --i ${{inputs.i}} --num_epochs ${{inputs.num_epochs}} --batch_size ${{inputs.batch_size}} --learning_rate ${{inputs.learning_rate}} --max_samples ${{inputs.max_samples}}\",\n",
    "    environment_variables=env_vars,\n",
    "    experiment_name=experiment_name,\n",
    "    display_name=get_display_name(experiment_name),\n",
    "    tags=tags,\n",
    ")\n",
    "\n",
    "ml_client.jobs.create_or_update(job)\n",
    "\n",
    "\n"
   ]
  }
 ],
 "metadata": {
  "kernelspec": {
   "display_name": "pulmo-sense",
   "language": "python",
   "name": "python3"
  },
  "language_info": {
   "codemirror_mode": {
    "name": "ipython",
    "version": 3
   },
   "file_extension": ".py",
   "mimetype": "text/x-python",
   "name": "python",
   "nbconvert_exporter": "python",
   "pygments_lexer": "ipython3",
   "version": "3.11.11"
  }
 },
 "nbformat": 4,
 "nbformat_minor": 2
}
