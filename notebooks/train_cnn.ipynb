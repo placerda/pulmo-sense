{
 "cells": [
  {
   "cell_type": "markdown",
   "metadata": {},
   "source": [
    "### Train CNN LSTM\n",
    "\n",
    "Reference: https://learn.microsoft.com/en-us/azure/machine-learning/how-to-train-pytorch?view=azureml-api-2"
   ]
  },
  {
   "cell_type": "code",
   "execution_count": 7,
   "metadata": {},
   "outputs": [],
   "source": [
    "# Import necessary libraries\n",
    "from dotenv import load_dotenv\n",
    "import os\n",
    "\n",
    "# Load the .env file\n",
    "load_dotenv()\n",
    "\n",
    "# Common variables\n",
    "network = \"cnn2d_multiclass\"\n",
    "dataset = \"ccccii\"\n",
    "k = 5\n",
    "i = 0\n",
    "num_epochs = 20\n",
    "learning_rate = 0.0005\n",
    "batch_size = 16\n"
   ]
  },
  {
   "cell_type": "code",
   "execution_count": 8,
   "metadata": {},
   "outputs": [
    {
     "name": "stdout",
     "output_type": "stream",
     "text": [
      "You already have a cluster named gpucluteruk, we'll reuse it as is.\n",
      "AMLCompute with name gpucluteruk is created, the compute size is Standard_ND96amsr_A100_v4\n"
     ]
    }
   ],
   "source": [
    "# Azure ML specific imports\n",
    "from azure.ai.ml import MLClient\n",
    "from azure.identity import DefaultAzureCredential\n",
    "from azure.ai.ml.entities import AmlCompute\n",
    "from azure.ai.ml import command\n",
    "\n",
    "# Configure the Azure workspace and authentication\n",
    "subscription_id = os.getenv(\"AZURE_SUBSCRIPTION_ID\")\n",
    "resource_group_name = os.getenv(\"AZURE_RESOURCE_GROUP\")\n",
    "workspace_name = os.getenv(\"AZURE_WORKSPACE_NAME\")\n",
    "\n",
    "credential = DefaultAzureCredential()\n",
    "ml_client = MLClient(\n",
    "    credential=credential,\n",
    "    subscription_id=subscription_id,\n",
    "    resource_group_name=resource_group_name,\n",
    "    workspace_name=workspace_name,\n",
    ")\n",
    "\n",
    "# Create or get the GPU cluster\n",
    "gpu_compute_target = \"gpucluteruk\"\n",
    "try:\n",
    "    gpu_cluster = ml_client.compute.get(gpu_compute_target)\n",
    "    print(f\"You already have a cluster named {gpu_compute_target}, we'll reuse it as is.\")\n",
    "except Exception:\n",
    "    print(\"Creating a new GPU compute target...\")\n",
    "    gpu_cluster = AmlCompute(\n",
    "        name=gpu_compute_target,\n",
    "        type=\"amlcompute\",\n",
    "        size=\"Standard_ND96amsr_A100_v4\",\n",
    "        min_instances=1,\n",
    "        max_instances=4,\n",
    "        idle_time_before_scale_down=180,\n",
    "        tier=\"Dedicated\",\n",
    "    )\n",
    "    gpu_cluster = ml_client.begin_create_or_update(gpu_cluster).result()\n",
    "print(f\"AMLCompute with name {gpu_cluster.name} is created, the compute size is {gpu_cluster.size}\")\n"
   ]
  },
  {
   "cell_type": "code",
   "execution_count": 9,
   "metadata": {},
   "outputs": [
    {
     "name": "stderr",
     "output_type": "stream",
     "text": [
      "\u001b[32mUploading pulmo-sense (56.85 MBs):  45%|████▌     | 25856899/56846012 [00:02<00:02, 13968083.05it/s]"
     ]
    }
   ],
   "source": [
    "# Azure ML environment and job setup\n",
    "custom_env_name = \"custom-acpt-pytorch-113-cuda117:9\"\n",
    "\n",
    "env_vars = {\n",
    "    'AZURE_STORAGE_ACCOUNT': os.getenv(\"AZURE_STORAGE_ACCOUNT\"),\n",
    "    'AZURE_STORAGE_KEY': os.getenv(\"AZURE_STORAGE_KEY\"),\n",
    "    'BLOB_CONTAINER': os.getenv(\"BLOB_CONTAINER\")\n",
    "}\n",
    "\n",
    "inputs = {\n",
    "    'network': network,\n",
    "    'dataset': dataset, \n",
    "    'k': k, \n",
    "    'i': i, \n",
    "    'num_epochs': num_epochs, \n",
    "    'learning_rate': learning_rate, \n",
    "    'batch_size': batch_size,\n",
    "    'max_patients': 100\n",
    "}\n",
    "\n",
    "job = command(\n",
    "    inputs = inputs,\n",
    "    compute=gpu_compute_target,\n",
    "    environment=custom_env_name,\n",
    "    code=\"../\",  # location of source code\n",
    "    command=\"python -m scripts.train.train_cnn2d_multiclass --run_cloud --dataset ${{inputs.dataset}} --k ${{inputs.k}} --i ${{inputs.i}} --num_epochs ${{inputs.num_epochs}} --batch_size ${{inputs.batch_size}} --learning_rate ${{inputs.learning_rate}} --max_patients ${{inputs.max_patients}}\",\n",
    "    environment_variables=env_vars,\n",
    "    experiment_name=\"train_cnn_2d_multiclass\",\n",
    "    display_name=\"train-cnn-2d-multiclass\",\n",
    "    tags={key: str(value) for key, value in inputs.items()}\n",
    ")\n",
    "\n",
    "ml_client.jobs.create_or_update(job)\n",
    "print(f\"Job {job.name} has been submitted.\")"
   ]
  }
 ],
 "metadata": {
  "kernelspec": {
   "display_name": "pulmo-sense",
   "language": "python",
   "name": "python3"
  },
  "language_info": {
   "codemirror_mode": {
    "name": "ipython",
    "version": 3
   },
   "file_extension": ".py",
   "mimetype": "text/x-python",
   "name": "python",
   "nbconvert_exporter": "python",
   "pygments_lexer": "ipython3",
   "version": "3.8.19"
  }
 },
 "nbformat": 4,
 "nbformat_minor": 2
}
